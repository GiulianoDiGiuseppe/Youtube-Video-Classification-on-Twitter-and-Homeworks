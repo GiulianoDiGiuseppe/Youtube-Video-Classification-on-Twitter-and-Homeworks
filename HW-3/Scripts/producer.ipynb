{
 "cells": [
  {
   "cell_type": "code",
   "execution_count": 23,
   "id": "421cf690",
   "metadata": {},
   "outputs": [],
   "source": [
    "import psutil\n",
    "import subprocess\n",
    "from time import sleep "
   ]
  },
  {
   "cell_type": "code",
   "execution_count": null,
   "id": "6c40a5ee",
   "metadata": {},
   "outputs": [],
   "source": [
    "def connect():\n",
    "    cmds = [\"cd /opt/kafka_2.11-0.9.0.0\"\n",
    "        ,\"bin/kafka-topics.sh --create --zookeeper localhost:2181 --replication-factor 1 --partitions 1 --topic topic\"\n",
    "            ,\"bin/kafka-console-producer.sh --broker-list localhost:9092 --topic topic\"\n",
    "\"bin/kafka-topics.sh --list --zookeeper localhost:2181\"]\n",
    "    try:\n",
    "        for cmd in cmds:\n",
    "            result = subprocess.run(cmd, shell=True, capture_output=True, text=True)\n",
    "            print('Command executed successfully.')\n",
    "            print('Output:\\n', result.stdout)\n",
    "        \n",
    "    except subprocess.CalledProcessError as ex:\n",
    "        print('Command execution failed.')\n",
    "        print('Error:', ex.stderr)"
   ]
  },
  {
   "cell_type": "code",
   "execution_count": 4,
   "id": "eb3d9cf9",
   "metadata": {},
   "outputs": [
    {
     "name": "stdout",
     "output_type": "stream",
     "text": [
      "2934\n"
     ]
    }
   ],
   "source": [
    "def get_size(bytes, suffix=\"B\"):\n",
    "    factor = 1024\n",
    "    for unit in [\"\", \"K\", \"M\", \"G\", \"T\", \"P\"]:\n",
    "        if bytes < factor:\n",
    "            return f\"{bytes:.2f}{unit}{suffix}\"\n",
    "        bytes /= factor\n",
    "\n",
    "\n",
    "def get_stats():\n",
    "    msg={}\n",
    "    STRUMENT='CPU '\n",
    "    msg[STRUMENT+'Physical cores']=psutil.cpu_count(logical=False)\n",
    "    msg[STRUMENT+'Total cores']=psutil.cpu_count(logical=True)\n",
    "    for i, percentage in enumerate(psutil.cpu_percent(percpu=True, interval=1)):\n",
    "        msg[STRUMENT+'Core'+str(i)]= percentage\n",
    "\n",
    "    STRUMENT='RAM '\n",
    "    svmem = psutil.virtual_memory()\n",
    "    msg[STRUMENT+'Total']=get_size(svmem.total)\n",
    "    msg[STRUMENT+'Available']=get_size(svmem.available)\n",
    "    msg[STRUMENT +'Used']=get_size(svmem.used)\n",
    "    msg[STRUMENT +'Percentage']=svmem.percent\n",
    "    swap = psutil.swap_memory()\n",
    "    STRUMENT='RAM SWAP'\n",
    "    msg[STRUMENT+'Total']=get_size(swap.total)\n",
    "    msg[STRUMENT+'Free']=get_size(swap.free)\n",
    "    msg[STRUMENT+'Used']=get_size(swap.used)\n",
    "    msg[STRUMENT+'Percentage']=swap.percent\n",
    "    STRUMENT=str('DISK  ')\n",
    "    disk_io = psutil.disk_io_counters()\n",
    "    msg[STRUMENT+'Total read']=get_size(disk_io.read_bytes)\n",
    "    msg[STRUMENT+'Total write']=get_size(disk_io.write_bytes)\n",
    "\n",
    "    return str(msg)"
   ]
  },
  {
   "cell_type": "code",
   "execution_count": 21,
   "id": "ed6a925a",
   "metadata": {},
   "outputs": [],
   "source": [
    "connect()\n",
    "i = 0\n",
    "while(1):\n",
    "    cmd_prod = \"bin/kafka-console-producer.sh --broker-list localhost:9092 --topic topic \"\n",
    "    cmd_full = \"echo \"+ '\\\"'+get_stats()+'\\\" | ' + cmd_prod\n",
    "    cmd_mess = subprocess.run(cmd_full, shell=True, capture_output=True, text=True)\n",
    "    print(\"Message {i} sent\")\n",
    "    sleep(1)\n",
    "    i+=1"
   ]
  }
 ],
 "metadata": {
  "kernelspec": {
   "display_name": "Python 3 (ipykernel)",
   "language": "python",
   "name": "python3"
  },
  "language_info": {
   "codemirror_mode": {
    "name": "ipython",
    "version": 3
   },
   "file_extension": ".py",
   "mimetype": "text/x-python",
   "name": "python",
   "nbconvert_exporter": "python",
   "pygments_lexer": "ipython3",
   "version": "3.10.6"
  }
 },
 "nbformat": 4,
 "nbformat_minor": 5
}
