{
  "cells": [
    {
      "cell_type": "markdown",
      "metadata": {
        "id": "ya0JPhh4Puex"
      },
      "source": [
        "# Import libraries"
      ]
    },
    {
      "cell_type": "code",
      "execution_count": 1,
      "metadata": {
        "id": "aIdXEMmsICPH"
      },
      "outputs": [],
      "source": [
        "import tensorflow as tf\n",
        "import pandas as pd\n",
        "import numpy as np\n",
        "from sklearn.model_selection import train_test_split\n",
        "from sklearn.metrics import f1_score\n",
        "import json"
      ]
    },
    {
      "cell_type": "code",
      "source": [
        "from google.colab import drive\n",
        "drive.mount('/content/drive')"
      ],
      "metadata": {
        "colab": {
          "base_uri": "https://localhost:8080/"
        },
        "id": "wlruiLVaQGhp",
        "outputId": "d2c3b8e5-f2cb-4feb-ab89-2b810b53fd32"
      },
      "execution_count": 2,
      "outputs": [
        {
          "output_type": "stream",
          "name": "stdout",
          "text": [
            "Mounted at /content/drive\n"
          ]
        }
      ]
    },
    {
      "cell_type": "markdown",
      "metadata": {
        "id": "CTApJYCFPue4"
      },
      "source": [
        "# Upload csv, extract the text input feature and the target variable y"
      ]
    },
    {
      "cell_type": "code",
      "execution_count": 3,
      "metadata": {
        "id": "OfsgccF5j8Nw"
      },
      "outputs": [],
      "source": [
        "df = pd.read_csv(\"/content/drive/MyDrive/BDE/RNN/merged_yt_collection_preprocessedtxt.csv\")\n",
        "text = df[\"preprocessed_text\"].to_numpy()\n",
        "y = df[\"moderationStatus\"].to_numpy()"
      ]
    },
    {
      "cell_type": "markdown",
      "metadata": {
        "id": "3z2RcL4DPue5"
      },
      "source": [
        "# Text encoder layer definition"
      ]
    },
    {
      "cell_type": "code",
      "execution_count": 4,
      "metadata": {
        "id": "DvIIjC3BM1n6"
      },
      "outputs": [],
      "source": [
        "encoder = tf.keras.layers.experimental.preprocessing.TextVectorization()\n",
        "encoder.adapt(text)\n",
        "len_voc = len(encoder.get_vocabulary())"
      ]
    },
    {
      "cell_type": "markdown",
      "metadata": {
        "id": "aRb4CQgPPue6"
      },
      "source": [
        "# Model definition"
      ]
    },
    {
      "cell_type": "code",
      "execution_count": 5,
      "metadata": {
        "id": "9_SUma-3IRPn"
      },
      "outputs": [],
      "source": [
        "latent_dim = 32\n",
        "\n",
        "model = tf.keras.Sequential([\n",
        "    encoder,\n",
        "    tf.keras.layers.Embedding(\n",
        "        input_dim=len_voc,\n",
        "        output_dim=latent_dim,\n",
        "        mask_zero=True),\n",
        "    tf.keras.layers.Bidirectional(tf.keras.layers.LSTM(latent_dim)),\n",
        "    tf.keras.layers.Dense(latent_dim, activation='relu'),\n",
        "    tf.keras.layers.Dense(1,activation=\"sigmoid\")\n",
        "])"
      ]
    },
    {
      "cell_type": "markdown",
      "metadata": {
        "id": "ySrC5tJ7Pue7"
      },
      "source": [
        "# Train and test split"
      ]
    },
    {
      "cell_type": "code",
      "execution_count": 6,
      "metadata": {
        "id": "vIsm8d7iTdn2"
      },
      "outputs": [],
      "source": [
        "test_size = 0.2\n",
        "X_train,X_test,Y_Train,Y_test = train_test_split(text,y,test_size=test_size,random_state=42,stratify = y)"
      ]
    },
    {
      "cell_type": "markdown",
      "metadata": {
        "id": "liXSMoHjPue7"
      },
      "source": [
        "# Compiling and training of the model"
      ]
    },
    {
      "cell_type": "code",
      "execution_count": null,
      "metadata": {
        "colab": {
          "base_uri": "https://localhost:8080/"
        },
        "id": "aeWK-gWmIUMZ",
        "outputId": "5e18e5cb-c9b2-479f-a57b-b4f374fbc21d"
      },
      "outputs": [
        {
          "output_type": "stream",
          "name": "stdout",
          "text": [
            "Epoch 1/5\n",
            "410/429 [===========================>..] - ETA: 7s - loss: 0.0206 - accuracy: 0.9930 - recall_2: 0.9788 - precision_2: 0.9857"
          ]
        }
      ],
      "source": [
        "epochs = 5\n",
        "batch_size = 32\n",
        "model.compile(optimizer='adam', loss=tf.keras.losses.BinaryCrossentropy(),metrics=[\"accuracy\",tf.keras.metrics.Recall(),tf.keras.metrics.Precision()])\n",
        "model.fit(x=X_train, y=Y_Train, epochs=epochs, validation_data = (X_test,Y_test),batch_size = batch_size)"
      ]
    },
    {
      "cell_type": "markdown",
      "metadata": {
        "id": "-mDG2tGNPue8"
      },
      "source": [
        "# Evaluating the model"
      ]
    },
    {
      "cell_type": "code",
      "execution_count": 24,
      "metadata": {
        "colab": {
          "base_uri": "https://localhost:8080/"
        },
        "id": "GKXtKi9EaWJp",
        "outputId": "0ecb6cd1-545b-4f7c-d481-3ec96f063a09"
      },
      "outputs": [
        {
          "output_type": "stream",
          "name": "stdout",
          "text": [
            "108/108 [==============================] - 12s 86ms/step\n",
            "Macro f1-score: 0.6497354506249216\n"
          ]
        }
      ],
      "source": [
        "pred = model.predict(X_test)\n",
        "y_pred = np.float32(pred>=0.5)\n",
        "macro_f1_score = f1_score(Y_test,y_pred,average=\"macro\")\n",
        "print(f\"Macro f1-score: {macro_f1_score}\")"
      ]
    },
    {
      "cell_type": "markdown",
      "metadata": {
        "id": "zyM4cDpyPue9"
      },
      "source": [
        "# Save model"
      ]
    },
    {
      "cell_type": "code",
      "source": [
        "path_weights = f\"/content/drive/MyDrive/BDE/Models/weights_RNN_{macro_f1_score}.tf\"\n",
        "model.save_weights(path_weights)"
      ],
      "metadata": {
        "id": "6qldgkL4WVz_"
      },
      "execution_count": 29,
      "outputs": []
    },
    {
      "cell_type": "markdown",
      "metadata": {
        "id": "ieEvPEz2Pue9"
      },
      "source": [
        "# Predict on test set"
      ]
    },
    {
      "cell_type": "code",
      "source": [
        "path_test = \"/content/drive/MyDrive/BDE/Filtered_collections/y_test_collection.json\"\n",
        "csv_test_path  = \"/content/drive/MyDrive/BDE/Predictions/y_test.csv\"\n",
        "\n",
        "with open(path_test, 'r') as test_file:\n",
        "    test_json = json.load(test_file)\n",
        "\n",
        "df_test= pd.read_csv(csv_test_path)"
      ],
      "metadata": {
        "id": "tcDbpxv-UPyX"
      },
      "execution_count": 30,
      "outputs": []
    },
    {
      "cell_type": "code",
      "execution_count": 31,
      "metadata": {
        "id": "ESMpk_BjPue9"
      },
      "outputs": [],
      "source": [
        "df_test_text = pd.read_csv(\"/content/drive/MyDrive/BDE/RNN/merged_yt_collection_test_preprocessedtxt.csv\")\n",
        "text_test = df_test_text[\"preprocessed_text\"].to_numpy()"
      ]
    },
    {
      "cell_type": "code",
      "execution_count": 32,
      "metadata": {
        "colab": {
          "base_uri": "https://localhost:8080/"
        },
        "id": "MAkh_CCwPue-",
        "outputId": "55655b3a-382e-4a73-bf60-dc938b40c7c0"
      },
      "outputs": [
        {
          "output_type": "stream",
          "name": "stdout",
          "text": [
            "60/60 [==============================] - 6s 108ms/step\n"
          ]
        }
      ],
      "source": [
        "pred = model.predict(text_test)\n",
        "y_pred = np.float32(pred>=0.5)"
      ]
    },
    {
      "cell_type": "code",
      "source": [
        "df_test[\"moderationStatus\"] =  np.where(y_pred == 0, \"not moderated\", \"moderated\") \n",
        "df_test.to_csv(f\"/content/drive/MyDrive/BDE/Predictions/RNN_model_{macro_f1_score:.10f}_y.csv\",index=False)"
      ],
      "metadata": {
        "id": "lB-4SeNJUHsq"
      },
      "execution_count": 33,
      "outputs": []
    }
  ],
  "metadata": {
    "accelerator": "GPU",
    "colab": {
      "gpuType": "T4",
      "provenance": []
    },
    "kernelspec": {
      "display_name": "Python 3",
      "name": "python3"
    },
    "language_info": {
      "codemirror_mode": {
        "name": "ipython",
        "version": 3
      },
      "file_extension": ".py",
      "mimetype": "text/x-python",
      "name": "python",
      "nbconvert_exporter": "python",
      "pygments_lexer": "ipython3",
      "version": "3.9.7"
    }
  },
  "nbformat": 4,
  "nbformat_minor": 0
}