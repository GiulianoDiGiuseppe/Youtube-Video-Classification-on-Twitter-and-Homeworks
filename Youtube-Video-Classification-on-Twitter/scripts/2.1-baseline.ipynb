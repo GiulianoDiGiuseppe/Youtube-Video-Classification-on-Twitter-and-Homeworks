{
 "cells": [
  {
   "attachments": {},
   "cell_type": "markdown",
   "metadata": {},
   "source": [
    "# Libaries import and database connection"
   ]
  },
  {
   "cell_type": "code",
   "execution_count": null,
   "metadata": {},
   "outputs": [],
   "source": [
    "from pymongo import MongoClient\n",
    "import json\n",
    "from bson import ObjectId\n",
    "import csv\n",
    "import pandas as pd\n",
    "import ast\n",
    "import sys\n",
    "csv.field_size_limit(sys.maxsize)\n",
    "\n",
    "pd.set_option('display.max_colwidth', None)\n",
    "# Create a MongoClient object and specify the MongoDB connection URL\n",
    "url = \"mongodb://localhost:27017/\"\n",
    "client1 = MongoClient(url)\n",
    "\n",
    "# Access a specific database\n",
    "db1 = client1[\"youtube_twitter_db1\"]\n",
    "\n",
    "# Send a ping to confirm a successful connection\n",
    "try:\n",
    "    client1.admin.command('ping')\n",
    "    print(\"Pinged your deployment. You successfully connected to MongoDB!\")\n",
    "except Exception as e:\n",
    "    print(e)"
   ]
  },
  {
   "attachments": {},
   "cell_type": "markdown",
   "metadata": {},
   "source": [
    "# Reading previously created twitter collection  "
   ]
  },
  {
   "cell_type": "code",
   "execution_count": null,
   "metadata": {},
   "outputs": [],
   "source": [
    "tw_collection = db1.tw_collection"
   ]
  },
  {
   "attachments": {},
   "cell_type": "markdown",
   "metadata": {},
   "source": [
    "# Creation new youtube collection from the updated_merged csv"
   ]
  },
  {
   "cell_type": "code",
   "execution_count": 3,
   "metadata": {},
   "outputs": [],
   "source": [
    "merged_yt_collection = db1.merged_yt_collection\n",
    "\n",
    "merged_yt_collection = db1.merged_yt_collection\n",
    "path = \"./updated_merged.csv\"\n",
    "with open(path, 'r') as file:\n",
    "    csv_data = csv.DictReader(file)\n",
    "    for row in csv_data:\n",
    "        merged_yt_collection.insert_one(row)"
   ]
  },
  {
   "attachments": {},
   "cell_type": "markdown",
   "metadata": {},
   "source": [
    "# Creation of a field in the youtube collection containg all the text and hashtags of the tweets referring to each video"
   ]
  },
  {
   "cell_type": "code",
   "execution_count": 122,
   "metadata": {},
   "outputs": [],
   "source": [
    "def update_video_tweets(yt_collection, tw_collection):\n",
    "    video_ids = yt_collection.find()  \n",
    "    i = 0\n",
    "    \n",
    "    for video in video_ids:\n",
    "        if i%10==0:\n",
    "            print(i)\n",
    "        i+=1\n",
    "        video_id = video[\"id\"] \n",
    "        tweet_ids_str = video.get(\"tweet_ids\", \"\")\n",
    "        tweet_ids = ast.literal_eval(tweet_ids_str)\n",
    "\n",
    "        # Retrieve corresponding tweets from tw_collection\n",
    "        tweets = tw_collection.find(\n",
    "            {\"tweetid\": {\"$in\": tweet_ids}}, \n",
    "            {\"text\": 1, \"hashtag\": 1} \n",
    "        )\n",
    "\n",
    "        # Collect text and hashtag for each tweet\n",
    "        tweet_text = \" \"\n",
    "        for tweet in tweets:             \n",
    "            text = tweet.get(\"text\") \n",
    "            if len(text) > 4:\n",
    "                tweet_text += \" \" + text\n",
    "\n",
    "            hashtag = tweet.get(\"hashtag\")\n",
    "            if len(hashtag) > 4:\n",
    "                tweet_text += \" \" + hashtag\n",
    "\n",
    "        # Update the video document with the tweet_text field\n",
    "        yt_collection.update_one(\n",
    "            {\"id\": video_id},\n",
    "            {\"$set\": {\"tweet_text\": tweet_text}}\n",
    "        )\n"
   ]
  },
  {
   "cell_type": "code",
   "execution_count": null,
   "metadata": {},
   "outputs": [],
   "source": [
    "update_video_tweets(yt_collection=merged_yt_collection, tw_collection=tw_collection)"
   ]
  },
  {
   "cell_type": "code",
   "execution_count": 5,
   "metadata": {},
   "outputs": [
    {
     "name": "stdout",
     "output_type": "stream",
     "text": [
      "Collection data saved as JSON.\n"
     ]
    }
   ],
   "source": [
    "\n",
    "# Custom JSON encoder class to handle ObjectId serialization\n",
    "class JSONEncoder(json.JSONEncoder):\n",
    "    def default(self, o):\n",
    "        if isinstance(o, ObjectId):\n",
    "            return str(o)\n",
    "        return super().default(o)\n",
    "\n",
    "# Retrieve all documents from the collection\n",
    "all_documents = list(merged_yt_collection.find())\n",
    "\n",
    "# Specify the path and filename for the output JSON file\n",
    "output_file = \"merged_yt_collection_text1.json\"\n",
    "\n",
    "# Save the collection data to the JSON file\n",
    "with open(output_file, \"w\") as file:\n",
    "    json.dump(all_documents, file, cls=JSONEncoder,indent=4)\n",
    "\n",
    "print(\"Collection data saved as JSON.\")"
   ]
  },
  {
   "cell_type": "code",
   "execution_count": 129,
   "metadata": {},
   "outputs": [
    {
     "data": {
      "text/plain": [
       "{'_id': ObjectId('646e576c1aeeb6496207f033'),\n",
       " 'id': '2bFLr70bNzA',\n",
       " 'moderationStatus': '0',\n",
       " 'tweet_ids': \"['1319671748170797062', '1319504474956845056', '1319431259194609664', '1319537482082492416', '1319452511527460864', '1319664735915159553', '1319807337243181062']\",\n",
       " 'tweet_text': \"  Tony Bubulinski just made a public statement about the Biden family and someone told him if he goes public with this information it will bury all of them. Seems to be another item from Pastor Dana's dream(s) that is coming to fruition before our eyes.  https://t.co/zTQq4dBQQe RT @Wolf_Wolfman: Hunter Biden’s Ex Business Partner Tony Bobulinski Drops a Bombshell https://t.co/ucdwOMq2z3 via @YouTube My guess is tha… Biden cannot be trusted! Watch you back Mr. Bobulinski. #BidenCares #BidenCares @JoeBiden #Trump2020 @realDonaldTrump @FBI #CorruptJoeBiden https://t.co/vlx779ykJU ['BidenCares', 'BidenCares', 'Trump2020', 'CorruptJoeBiden'] BOOM!!!!!! 💥💥💥💥  Hunter Biden’s Ex Business Partner Tony Bobulinski Drops a Bombshell https://t.co/F4rnIjdSvZ via @YouTube Dit op vtmnieuws ? Kijk alvorens de censuur weer zijn intrede doet. Ik heb het altijd gezegd.corona...made in china...sponsored by the democrats. de enige manier om Trump weg te krijgen.alee...dachten ze.   https://t.co/6Fg2P29LlN Hunter Biden’s Ex Business Partner Tony Bobulinski Drops a Bombshell https://t.co/BkGctr7LpK via @YouTube Hunter Biden’s Ex Business Partner Tony Bobulinski Drops a Bombshell https://t.co/YXiDxQBM0M via @YouTube\"}"
      ]
     },
     "execution_count": 129,
     "metadata": {},
     "output_type": "execute_result"
    }
   ],
   "source": [
    "merged_yt_collection.find_one()"
   ]
  },
  {
   "attachments": {},
   "cell_type": "markdown",
   "metadata": {},
   "source": [
    "# Saving the updated collection as a new csv "
   ]
  },
  {
   "cell_type": "code",
   "execution_count": 128,
   "metadata": {},
   "outputs": [],
   "source": [
    "# Retrieve all documents from the collection\n",
    "cursor = merged_yt_collection.find()\n",
    "\n",
    "# Convert the cursor to a DataFrame\n",
    "df = pd.DataFrame(list(cursor))\n",
    "\n",
    "# Specify the columns to include in the CSV file\n",
    "columns = ['id', 'moderationStatus', 'tweet_ids', 'tweet_text']\n",
    "\n",
    "# Save the DataFrame as a CSV file\n",
    "df.to_csv('merged_yt_collection_text.csv', columns=columns, index=False)"
   ]
  }
 ],
 "metadata": {
  "kernelspec": {
   "display_name": "youtube_twitter_env",
   "language": "python",
   "name": "python3"
  },
  "language_info": {
   "codemirror_mode": {
    "name": "ipython",
    "version": 3
   },
   "file_extension": ".py",
   "mimetype": "text/x-python",
   "name": "python",
   "nbconvert_exporter": "python",
   "pygments_lexer": "ipython3",
   "version": "3.11.3"
  },
  "orig_nbformat": 4
 },
 "nbformat": 4,
 "nbformat_minor": 2
}
