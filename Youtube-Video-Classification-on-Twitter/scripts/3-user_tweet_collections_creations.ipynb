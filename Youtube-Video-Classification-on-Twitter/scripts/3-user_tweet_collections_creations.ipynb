{
 "cells": [
  {
   "attachments": {},
   "cell_type": "markdown",
   "metadata": {},
   "source": [
    "# Importing libraries and database connection"
   ]
  },
  {
   "cell_type": "code",
   "execution_count": 1,
   "metadata": {},
   "outputs": [
    {
     "name": "stdout",
     "output_type": "stream",
     "text": [
      "Pinged your deployment. You successfully connected to MongoDB!\n"
     ]
    }
   ],
   "source": [
    "from pymongo import MongoClient\n",
    "import json\n",
    "import re\n",
    "import csv\n",
    "import pandas as pd\n",
    "from bson import ObjectId\n",
    "import sys\n",
    "import numpy as np\n",
    "\n",
    "csv.field_size_limit(sys.maxsize)\n",
    "pd.set_option('display.max_colwidth', None)\n",
    "\n",
    "# Create a MongoClient object and specify the MongoDB connection URL\n",
    "url = \"mongodb://localhost:27017/\"\n",
    "client = MongoClient(url)\n",
    "\n",
    "# Access a specific database\n",
    "db  = client[\"youtube_twitter_filtered\"]\n",
    "\n",
    "# Send a ping to confirm a successful connection\n",
    "try:\n",
    "    client.admin.command('ping')\n",
    "    print(\"Pinged your deployment. You successfully connected to MongoDB!\")\n",
    "except Exception as e:\n",
    "    print(e)"
   ]
  },
  {
   "attachments": {},
   "cell_type": "markdown",
   "metadata": {},
   "source": [
    "# Creation of a collection containing the youtube video id and the corresponding list of tweet ids"
   ]
  },
  {
   "cell_type": "code",
   "execution_count": 4,
   "metadata": {},
   "outputs": [],
   "source": [
    "yt_collection = db.yt_collection\n",
    "\n",
    "# Reading CSV and collection creation\n",
    "path = \"./updated_merged.csv\"\n",
    "with open(path, 'r') as file:\n",
    "    csv_data = csv.DictReader(file)\n",
    "    \n",
    "    for row in csv_data:\n",
    "        yt_collection.insert_one(row)\n"
   ]
  },
  {
   "cell_type": "code",
   "execution_count": 4,
   "metadata": {},
   "outputs": [
    {
     "data": {
      "text/plain": [
       "{'_id': ObjectId('6470c440ab1a9c0a9da6d1a6'),\n",
       " 'id': '2bFLr70bNzA',\n",
       " 'moderationStatus': '0',\n",
       " 'tweet_ids': \"['1319671748170797062', '1319504474956845056', '1319431259194609664', '1319537482082492416', '1319452511527460864', '1319664735915159553', '1319807337243181062']\"}"
      ]
     },
     "execution_count": 4,
     "metadata": {},
     "output_type": "execute_result"
    }
   ],
   "source": [
    "yt_collection.find_one()"
   ]
  },
  {
   "attachments": {},
   "cell_type": "markdown",
   "metadata": {},
   "source": [
    "# Filtered twitter collection creation"
   ]
  },
  {
   "cell_type": "code",
   "execution_count": null,
   "metadata": {},
   "outputs": [],
   "source": [
    "i = 0\n",
    "twitter_collection = db.twitter_collection\n",
    "\n",
    "# Reading CSV e insert of JSON documents\n",
    "path = \"./tweets_filtrati.csv\"\n",
    "\n",
    "with open(path, 'r') as file:\n",
    "    csv_data = csv.DictReader(file)\n",
    "    for row in csv_data:\n",
    "        \n",
    "        if i%10000==0:\n",
    "            print(i)\n",
    "        i+=1\n",
    "        \n",
    "        rt_tweetid = row[\"rt_tweetid\"]\n",
    "        quoted_tweetid = row[\"qtd_tweetid\"]\n",
    "        reply_statusid = row[\"reply_statusid\"]\n",
    "        user_id = row[\"userid\"]\n",
    "\n",
    "        if \"e\" in str(user_id):\n",
    "            row[\"userid\"] = int(np.float64(user_id))\n",
    "        if len(rt_tweetid)>3 :\n",
    "            row[\"rt_tweetid\"] = int(np.float64(rt_tweetid))\n",
    "\n",
    "        if len(quoted_tweetid)>3:\n",
    "            row[\"qtd_tweetid\"] = int(np.float64(quoted_tweetid))\n",
    "            \n",
    "        if len(reply_statusid)>3:\n",
    "            row[\"reply_statusid\"] = int(np.float64((reply_statusid)))\n",
    "        twitter_collection.insert_one(row)"
   ]
  },
  {
   "attachments": {},
   "cell_type": "markdown",
   "metadata": {},
   "source": [
    "# User collection creation"
   ]
  },
  {
   "cell_type": "code",
   "execution_count": null,
   "metadata": {},
   "outputs": [],
   "source": [
    "user_collection = db.user_collection\n",
    "distinct_user_ids = set()  # Set to keep track of distinct user IDs\n",
    "i = 0\n",
    "\n",
    "for tweet in twitter_collection.find():\n",
    "    if i %10000==0:\n",
    "        print(i)\n",
    "\n",
    "    i+=1\n",
    "    userid = tweet[\"userid\"]\n",
    "\n",
    "    if userid not in distinct_user_ids:\n",
    "        distinct_user_ids.add(userid)\n",
    "\n",
    "        user = {\n",
    "            \"userid\": tweet[\"userid\"],\n",
    "            \"description\": tweet[\"description\"],\n",
    "            \"verified\": tweet[\"verified\"],\n",
    "            \"friends_count\": tweet[\"friends_count\"],\n",
    "            \"listed_count\": tweet[\"listed_count\"],\n",
    "            \"statuses_count\": tweet[\"statuses_count\"],\n",
    "            \"followers_count\": tweet[\"followers_count\"],\n",
    "            \"favourites_count\": tweet[\"favourites_count\"],\n",
    "            \"date_first_tweet\": tweet[\"date_first_tweet\"],\n",
    "            \"account_creation_date\": tweet[\"account_creation_date\"]\n",
    "        }\n",
    "\n",
    "        user_collection.insert_one(user)"
   ]
  },
  {
   "attachments": {},
   "cell_type": "markdown",
   "metadata": {},
   "source": [
    "# Saving the three collections as json files"
   ]
  },
  {
   "cell_type": "code",
   "execution_count": 6,
   "metadata": {},
   "outputs": [],
   "source": [
    "# Retrieve all documents from the collection\n",
    "collection_data = list(twitter_collection.find())\n",
    "\n",
    "# Convert ObjectId to string representation\n",
    "for document in collection_data:\n",
    "    document[\"_id\"] = str(document[\"_id\"])\n",
    "\n",
    "# Save as JSON file\n",
    "json_path = \"twitter_collection.json\"\n",
    "with open(json_path, \"w\") as json_file:\n",
    "    json.dump(collection_data, json_file, indent=4, default=str)"
   ]
  },
  {
   "cell_type": "code",
   "execution_count": null,
   "metadata": {},
   "outputs": [],
   "source": [
    "# Retrieve all documents from the collection\n",
    "collection_data = list(user_collection.find())\n",
    "\n",
    "# Convert ObjectId to string representation\n",
    "for document in collection_data:\n",
    "    document[\"_id\"] = str(document[\"_id\"])\n",
    "\n",
    "# Save as JSON file\n",
    "json_path = \"user_collection.json\"\n",
    "with open(json_path, \"w\") as json_file:\n",
    "    json.dump(collection_data, json_file, indent=4, default=str)"
   ]
  },
  {
   "cell_type": "code",
   "execution_count": null,
   "metadata": {},
   "outputs": [],
   "source": [
    "# Retrieve all documents from the collection\n",
    "collection_data = list(yt_collection.find())\n",
    "\n",
    "# Convert ObjectId to string representation\n",
    "for document in collection_data:\n",
    "    document[\"_id\"] = str(document[\"_id\"])\n",
    "\n",
    "# Save as JSON file\n",
    "json_path = \"youtube_collection.json\"\n",
    "with open(json_path, \"w\") as json_file:\n",
    "    json.dump(collection_data, json_file, indent=4, default=str)"
   ]
  }
 ],
 "metadata": {
  "kernelspec": {
   "display_name": "youtube_twitter_env",
   "language": "python",
   "name": "python3"
  },
  "language_info": {
   "codemirror_mode": {
    "name": "ipython",
    "version": 3
   },
   "file_extension": ".py",
   "mimetype": "text/x-python",
   "name": "python",
   "nbconvert_exporter": "python",
   "pygments_lexer": "ipython3",
   "version": "3.11.3"
  },
  "orig_nbformat": 4
 },
 "nbformat": 4,
 "nbformat_minor": 2
}
