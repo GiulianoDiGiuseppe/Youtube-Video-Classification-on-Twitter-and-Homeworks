{
 "cells": [
  {
   "attachments": {},
   "cell_type": "markdown",
   "metadata": {},
   "source": [
    "# Importing libraries"
   ]
  },
  {
   "cell_type": "code",
   "execution_count": 1,
   "metadata": {},
   "outputs": [],
   "source": [
    "import pandas as pd \n",
    "import nltk\n",
    "from nltk.corpus import stopwords\n",
    "from nltk.stem import WordNetLemmatizer\n",
    "from nltk.tokenize import word_tokenize\n",
    "import string\n",
    "import numpy as np\n",
    "import xgboost as xgb\n",
    "from sklearn.ensemble import RandomForestClassifier\n",
    "from sklearn.linear_model import LogisticRegression\n",
    "from sklearn.svm import SVC\n",
    "from sklearn.model_selection import train_test_split\n",
    "from sklearn.metrics import accuracy_score,f1_score,confusion_matrix,recall_score, precision_score\n",
    "from sklearn.feature_extraction.text import CountVectorizer\n",
    "\n",
    "\n",
    "nltk.download('punkt')\n",
    "nltk.download('stopwords')\n",
    "nltk.download('wordnet')"
   ]
  },
  {
   "attachments": {},
   "cell_type": "markdown",
   "metadata": {},
   "source": [
    "# Reading youtube csv containing the field text"
   ]
  },
  {
   "cell_type": "code",
   "execution_count": 3,
   "metadata": {},
   "outputs": [],
   "source": [
    "path = '/merged_yt_collection_text.csv'\n",
    "df = pd.read_csv(path)"
   ]
  },
  {
   "attachments": {},
   "cell_type": "markdown",
   "metadata": {},
   "source": [
    "# Defining text preprocessing function"
   ]
  },
  {
   "cell_type": "code",
   "execution_count": 4,
   "metadata": {},
   "outputs": [],
   "source": [
    "def preprocess_text(text):\n",
    "    # Tokenize the text into individual words\n",
    "    tokens = word_tokenize(text.lower())\n",
    "\n",
    "    # Remove the punctuation\n",
    "    table = str.maketrans('', '', string.punctuation)\n",
    "    tokens = [token.translate(table) for token in tokens if token.isalpha()]\n",
    "\n",
    "    # Remove the English stop words\n",
    "    stop_words = set(stopwords.words('english'))\n",
    "    tokens = [token for token in tokens if token not in stop_words]\n",
    "\n",
    "    # Using a word Lemmatizer \n",
    "    lemmatizer = WordNetLemmatizer()\n",
    "    tokens = [lemmatizer.lemmatize(token) for token in tokens]\n",
    "\n",
    "    preprocessed_text = ' '.join(tokens)\n",
    "\n",
    "    return preprocessed_text"
   ]
  },
  {
   "attachments": {},
   "cell_type": "markdown",
   "metadata": {},
   "source": [
    "# Creation of a new column with the preprocessed text"
   ]
  },
  {
   "cell_type": "code",
   "execution_count": 5,
   "metadata": {},
   "outputs": [],
   "source": [
    "df['preprocessed_text'] = df['tweet_text'].apply(lambda x: preprocess_text(x))"
   ]
  },
  {
   "attachments": {},
   "cell_type": "markdown",
   "metadata": {},
   "source": [
    "# Saving the new csv with the preprocessed text"
   ]
  },
  {
   "cell_type": "code",
   "execution_count": 14,
   "metadata": {},
   "outputs": [],
   "source": [
    "df.to_csv(\"merged_yt_collection_preprocessedtxt.csv\",index=False)"
   ]
  },
  {
   "attachments": {},
   "cell_type": "markdown",
   "metadata": {},
   "source": [
    "# Check script mood.py"
   ]
  },
  {
   "attachments": {},
   "cell_type": "markdown",
   "metadata": {},
   "source": [
    "# Reading the csv with the preprocessed text"
   ]
  },
  {
   "cell_type": "code",
   "execution_count": 2,
   "metadata": {},
   "outputs": [],
   "source": [
    "\n",
    "df = pd.read_csv(\"merged_yt_collection_preprocessedtxt.csv\")"
   ]
  },
  {
   "attachments": {},
   "cell_type": "markdown",
   "metadata": {},
   "source": [
    "# Concat the new five mood columns to the dataframe"
   ]
  },
  {
   "cell_type": "code",
   "execution_count": 3,
   "metadata": {},
   "outputs": [],
   "source": [
    "# Specify the file path\n",
    "files = ['hate.txt', 'irony.txt', 'neutral.txt', 'negative.txt', 'offensive.txt']\n",
    "\n",
    "# Read the text files into pandas Series\n",
    "new_columns = []\n",
    "for file in files:\n",
    "    with open(file, 'r') as f:\n",
    "        values = f.read().splitlines()\n",
    "    col = pd.Series(values, name=file.split(\".\")[0])\n",
    "    new_columns.append(col)\n",
    "\n",
    "# Concatenate the existing DataFrame with the new mood columns\n",
    "combined_data = pd.concat([df] + new_columns, axis=1)\n"
   ]
  },
  {
   "cell_type": "code",
   "execution_count": 22,
   "metadata": {},
   "outputs": [
    {
     "data": {
      "text/plain": [
       "Index(['id', 'moderationStatus', 'tweet_ids', 'tweet_text',\n",
       "       'preprocessed_text', 'hate', 'irony', 'neutral', 'negative',\n",
       "       'offensive'],\n",
       "      dtype='object')"
      ]
     },
     "execution_count": 22,
     "metadata": {},
     "output_type": "execute_result"
    }
   ],
   "source": [
    "combined_data.columns"
   ]
  },
  {
   "attachments": {},
   "cell_type": "markdown",
   "metadata": {},
   "source": [
    "# Extract input and target features"
   ]
  },
  {
   "cell_type": "code",
   "execution_count": 6,
   "metadata": {},
   "outputs": [],
   "source": [
    "y = combined_data[\"moderationStatus\"].to_numpy()\n",
    "x = combined_data[[\"hate\",\"irony\",\"offensive\",\"negative\",\"neutral\"]].to_numpy()"
   ]
  },
  {
   "attachments": {},
   "cell_type": "markdown",
   "metadata": {},
   "source": [
    "# Split data in train and test"
   ]
  },
  {
   "cell_type": "code",
   "execution_count": 7,
   "metadata": {},
   "outputs": [],
   "source": [
    "X_train, X_test, y_train, y_test = train_test_split(x, y, test_size=0.1, random_state=42,stratify=y)"
   ]
  },
  {
   "attachments": {},
   "cell_type": "markdown",
   "metadata": {},
   "source": [
    "# XGBoost"
   ]
  },
  {
   "cell_type": "code",
   "execution_count": 8,
   "metadata": {},
   "outputs": [],
   "source": [
    "#Convert your data into DMatrix format (an optimized data structure for XGBoost)\n",
    "dtrain = xgb.DMatrix(X_train, label=y_train)\n",
    "dtest = xgb.DMatrix(X_test, label=y_test)\n",
    "\n",
    "#Set the parameters for XGBoost\n",
    "params = {\n",
    "    'max_depth': 3,\n",
    "    'eta': 0.1,\n",
    "    'objective': 'binary:logistic',\n",
    "    'eval_metric': 'logloss',\n",
    "    'seed': 42\n",
    "}\n",
    "\n",
    "#Train the XGBoost model\n",
    "num_rounds = 100\n",
    "model = xgb.train(params, dtrain, num_rounds)\n",
    "\n",
    "#Make predictions on the test set\n",
    "y_pred = model.predict(dtest)\n",
    "predictions = [round(value) for value in y_pred]"
   ]
  },
  {
   "cell_type": "code",
   "execution_count": 11,
   "metadata": {},
   "outputs": [
    {
     "name": "stdout",
     "output_type": "stream",
     "text": [
      "Accuracy: 80.21%\n",
      "MACRO f1_Score:  0.44509232264334303\n",
      "recall:  0.0\n",
      "precision:  0.0\n",
      "confusion matrix:  [[1374    0]\n",
      " [ 339    0]]\n"
     ]
    },
    {
     "name": "stderr",
     "output_type": "stream",
     "text": [
      "/Users/raffaelerusso/opt/anaconda3/envs/youtube_twitter_env/lib/python3.11/site-packages/sklearn/metrics/_classification.py:1344: UndefinedMetricWarning: Precision is ill-defined and being set to 0.0 due to no predicted samples. Use `zero_division` parameter to control this behavior.\n",
      "  _warn_prf(average, modifier, msg_start, len(result))\n"
     ]
    }
   ],
   "source": [
    "#Evaluate the model\n",
    "accuracy = accuracy_score(y_test, predictions)\n",
    "fscore = f1_score(y_test,predictions,average=\"macro\")\n",
    "recall = recall_score(y_test,predictions)\n",
    "precision = precision_score(y_test,predictions)\n",
    "conf_matr = confusion_matrix(y_test,predictions)\n",
    "print(\"Accuracy: %.2f%%\" % (accuracy * 100.0))\n",
    "print(\"MACRO f1_Score: \",fscore)\n",
    "print(\"recall: \",recall)\n",
    "print(\"precision: \",precision)\n",
    "print(\"confusion matrix: \",conf_matr)"
   ]
  },
  {
   "attachments": {},
   "cell_type": "markdown",
   "metadata": {},
   "source": [
    "# Random forest"
   ]
  },
  {
   "cell_type": "code",
   "execution_count": 13,
   "metadata": {},
   "outputs": [
    {
     "name": "stdout",
     "output_type": "stream",
     "text": [
      "Accuracy: 80.41%\n",
      "macro f1_Score:  0.47347880065862835\n",
      "recall:  0.030721966205837174\n",
      "precision:  0.3333333333333333\n",
      "confusion matrix:  [[2734   40]\n",
      " [ 631   20]]\n"
     ]
    }
   ],
   "source": [
    "#Split in training and test set\n",
    "X_train, X_test, y_train, y_test = train_test_split(x, y, test_size=0.2, random_state=42)\n",
    "\n",
    "# Create an instance of the Random Forest classifier\n",
    "random_forest = RandomForestClassifier(n_estimators=100, random_state=42)  # Adjust the number of estimators as needed\n",
    "\n",
    "# Fit the model to the training data\n",
    "random_forest.fit(X_train, y_train)\n",
    "\n",
    "# Make predictions on the test data\n",
    "y_pred = random_forest.predict(X_test)\n",
    "\n",
    "# Evaluate the model's performance\n",
    "#Evaluate the model\n",
    "accuracy = accuracy_score(y_test, y_pred)\n",
    "fscore = f1_score(y_test,y_pred,average=\"macro\")\n",
    "recall = recall_score(y_test,y_pred)\n",
    "precision = precision_score(y_test,y_pred)\n",
    "conf_matr = confusion_matrix(y_test,y_pred)\n",
    "print(\"Accuracy: %.2f%%\" % (accuracy * 100.0))\n",
    "print(\"macro f1_Score: \",fscore)\n",
    "print(\"recall: \",recall)\n",
    "print(\"precision: \",precision)\n",
    "print(\"confusion matrix: \",conf_matr)"
   ]
  },
  {
   "attachments": {},
   "cell_type": "markdown",
   "metadata": {},
   "source": [
    "# SVM"
   ]
  },
  {
   "cell_type": "code",
   "execution_count": 15,
   "metadata": {},
   "outputs": [
    {
     "name": "stdout",
     "output_type": "stream",
     "text": [
      "Accuracy: 67.94%\n",
      "macro f1_Score:  0.48834526806618145\n",
      "recall:  0.17972350230414746\n",
      "precision:  0.17180616740088106\n",
      "confusion matrix:  [[2210  564]\n",
      " [ 534  117]]\n"
     ]
    }
   ],
   "source": [
    "# Split the data into training and testing sets\n",
    "X_train, X_test, y_train, y_test = train_test_split(x, y, test_size=0.2, random_state=42)\n",
    "\n",
    "# Create an instance of the SVM classifier\n",
    "svm = SVC(kernel='sigmoid')  # You can choose different kernels, such as 'linear', 'rbf', or 'sigmoid'\n",
    "\n",
    "# Fit the model to the training data\n",
    "svm.fit(X_train, y_train)\n",
    "\n",
    "# Make predictions on the test data\n",
    "y_pred = svm.predict(X_test)\n",
    "\n",
    "# Evaluate the model's performance\n",
    "#Evaluate the model\n",
    "accuracy = accuracy_score(y_test, y_pred)\n",
    "fscore = f1_score(y_test,y_pred,average=\"macro\")\n",
    "recall = recall_score(y_test,y_pred)\n",
    "precision = precision_score(y_test,y_pred)\n",
    "conf_matr = confusion_matrix(y_test,y_pred)\n",
    "print(\"accuracy: %.2f%%\" % (accuracy * 100.0))\n",
    "print(\"macro f1_Score: \",fscore)\n",
    "print(\"recall: \",recall)\n",
    "print(\"precision: \",precision)\n",
    "print(\"confusion matrix: \",conf_matr)"
   ]
  },
  {
   "attachments": {},
   "cell_type": "markdown",
   "metadata": {},
   "source": [
    "# Logistic regression"
   ]
  },
  {
   "cell_type": "code",
   "execution_count": 16,
   "metadata": {},
   "outputs": [
    {
     "name": "stdout",
     "output_type": "stream",
     "text": [
      "Accuracy: 80.99%\n",
      "macro f1_Score:  0.4474915308920793\n",
      "recall:  0.0\n",
      "precision:  0.0\n",
      "confusion matrix:  [[2774    0]\n",
      " [ 651    0]]\n"
     ]
    },
    {
     "name": "stderr",
     "output_type": "stream",
     "text": [
      "/Users/raffaelerusso/opt/anaconda3/envs/youtube_twitter_env/lib/python3.11/site-packages/sklearn/metrics/_classification.py:1344: UndefinedMetricWarning: Precision is ill-defined and being set to 0.0 due to no predicted samples. Use `zero_division` parameter to control this behavior.\n",
      "  _warn_prf(average, modifier, msg_start, len(result))\n"
     ]
    }
   ],
   "source": [
    "# Split the data into training and testing sets\n",
    "X_train, X_test, y_train, y_test = train_test_split(x, y, test_size=0.2, random_state=42)\n",
    "\n",
    "# Create an instance of the SVM classifier\n",
    "lr = LogisticRegression()  # You can choose different kernels, such as 'linear', 'rbf', or 'sigmoid'\n",
    "\n",
    "# Fit the model to the training data\n",
    "lr.fit(X_train, y_train)\n",
    "\n",
    "# Make predictions on the test data\n",
    "y_pred = lr.predict(X_test)\n",
    "\n",
    "# Evaluate the model's performance\n",
    "#Evaluate the model\n",
    "accuracy = accuracy_score(y_test, y_pred)\n",
    "fscore = f1_score(y_test,y_pred,average=\"macro\")\n",
    "recall = recall_score(y_test,y_pred)\n",
    "precision = precision_score(y_test,y_pred)\n",
    "conf_matr = confusion_matrix(y_test,y_pred)\n",
    "print(\"Accuracy: %.2f%%\" % (accuracy * 100.0))\n",
    "print(\"macro f1_Score: \",fscore)\n",
    "print(\"recall: \",recall)\n",
    "print(\"precision: \",precision)\n",
    "print(\"confusion matrix: \",conf_matr)"
   ]
  },
  {
   "attachments": {},
   "cell_type": "markdown",
   "metadata": {},
   "source": [
    "# Random Forest with the add of preprocessed text"
   ]
  },
  {
   "cell_type": "code",
   "execution_count": 18,
   "metadata": {},
   "outputs": [],
   "source": [
    "text = combined_data[\"preprocessed_text\"]\n",
    "\n",
    "#text encoding\n",
    "vect = CountVectorizer()\n",
    "x_text = vect.fit_transform(text)"
   ]
  },
  {
   "cell_type": "code",
   "execution_count": 19,
   "metadata": {},
   "outputs": [
    {
     "name": "stdout",
     "output_type": "stream",
     "text": [
      "Accuracy: 82.22%\n",
      "f1_Score:  0.5233141995497386\n",
      "recall:  0.07987711213517665\n",
      "precision:  0.8387096774193549\n",
      "confusion matrix:  [[2764   10]\n",
      " [ 599   52]]\n"
     ]
    }
   ],
   "source": [
    "# Training and test set split\n",
    "X_train,X_test,Y_Train,Y_test = train_test_split(x_text,y,test_size=0.2,random_state=42)\n",
    "\n",
    "# Create an instance of the SVM classifier\n",
    "model = RandomForestClassifier()  # You can choose different kernels, such as 'linear', 'rbf', or 'sigmoid'\n",
    "\n",
    "# Fit the model to the training data\n",
    "model.fit(X_train, y_train)\n",
    "\n",
    "# Make predictions on the test data\n",
    "y_pred = model.predict(X_test)\n",
    "\n",
    "# Evaluate the model's performance\n",
    "#Evaluate the model\n",
    "accuracy = accuracy_score(y_test, y_pred)\n",
    "fscore = f1_score(y_test,y_pred,average=\"macro\")\n",
    "recall = recall_score(y_test,y_pred)\n",
    "precision = precision_score(y_test,y_pred)\n",
    "conf_matr = confusion_matrix(y_test,y_pred)\n",
    "\n",
    "print(\"Accuracy: %.2f%%\" % (accuracy * 100.0))\n",
    "print(\"f1_Score: \",fscore)\n",
    "print(\"recall: \",recall)\n",
    "print(\"precision: \",precision)\n",
    "print(\"confusion matrix: \",conf_matr) "
   ]
  }
 ],
 "metadata": {
  "kernelspec": {
   "display_name": "base",
   "language": "python",
   "name": "python3"
  },
  "language_info": {
   "codemirror_mode": {
    "name": "ipython",
    "version": 3
   },
   "file_extension": ".py",
   "mimetype": "text/x-python",
   "name": "python",
   "nbconvert_exporter": "python",
   "pygments_lexer": "ipython3",
   "version": "3.11.3"
  },
  "orig_nbformat": 4
 },
 "nbformat": 4,
 "nbformat_minor": 2
}
