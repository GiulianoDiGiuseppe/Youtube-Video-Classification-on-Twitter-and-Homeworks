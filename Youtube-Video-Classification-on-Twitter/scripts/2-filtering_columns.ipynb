{
 "cells": [
  {
   "cell_type": "code",
   "execution_count": 1,
   "metadata": {},
   "outputs": [],
   "source": [
    "import pandas as pd \n",
    "import numpy as np "
   ]
  },
  {
   "attachments": {},
   "cell_type": "markdown",
   "metadata": {},
   "source": [
    "# Twitter dataset reading and filtering"
   ]
  },
  {
   "cell_type": "code",
   "execution_count": null,
   "metadata": {},
   "outputs": [],
   "source": [
    "path_dataset = \"df_youtube.csv\"\n",
    "tweets_df = pd.read_csv(path_dataset)\n",
    "print(f\"Dataset size: {tweets_df.shape}\")\n",
    "\n",
    "# Keeping only the tweets belonging to the types: reply, original, retweeted_tweet_without_comment and quoted tweet\n",
    "tweets_filtered = tweets_df[(tweets_df[\"tweet_type\"]==\"reply\") | (tweets_df[\"tweet_type\"]==\"original\") | (tweets_df[\"tweet_type\"]==\"retweeted_tweet_without_comment\") | (tweets_df[\"tweet_type\"]==\"quoted_tweet\")]\n",
    "\n",
    "# Dropping irrelevant columns\n",
    "columns_to_keep = ['tweetid', 'userid', 'date', 'description', 'text', 'reply_statusid', 'tweet_type', 'friends_count', 'listed_count', 'followers_count', 'favourites_count', 'statuses_count', 'verified', 'hashtag', 'date_first_tweet', 'account_creation_date', 'rt_qtd_count', 'rt_rt_count', 'rt_reply_count', 'rt_fav_count', 'rt_tweetid', 'qtd_qtd_count', 'qtd_rt_count', 'qtd_reply_count', 'qtd_fav_count', 'qtd_tweetid']\n",
    "tweets_filtered = tweets_df[(tweets_df[\"tweet_type\"]==\"reply\") | (tweets_df[\"tweet_type\"]==\"original\") | (tweets_df[\"tweet_type\"]==\"retweeted_tweet_without_comment\") | (tweets_df[\"tweet_type\"]==\"quoted_tweet\")][columns_to_keep]"
   ]
  },
  {
   "cell_type": "code",
   "execution_count": 57,
   "metadata": {},
   "outputs": [
    {
     "data": {
      "text/plain": [
       "original                           335510\n",
       "reply                              233373\n",
       "retweeted_tweet_without_comment    187426\n",
       "quoted_tweet                        22308\n",
       "Name: tweet_type, dtype: int64"
      ]
     },
     "execution_count": 57,
     "metadata": {},
     "output_type": "execute_result"
    }
   ],
   "source": [
    "tweets_filtered[\"tweet_type\"].value_counts()"
   ]
  },
  {
   "attachments": {},
   "cell_type": "markdown",
   "metadata": {},
   "source": [
    "# Saving the filtered tweet dataset "
   ]
  },
  {
   "cell_type": "code",
   "execution_count": 59,
   "metadata": {},
   "outputs": [],
   "source": [
    "tweets_filtered.to_csv(\"tweets_filtered.csv\",index=False)"
   ]
  }
 ],
 "metadata": {
  "kernelspec": {
   "display_name": "youtube_twitter_env",
   "language": "python",
   "name": "python3"
  },
  "language_info": {
   "codemirror_mode": {
    "name": "ipython",
    "version": 3
   },
   "file_extension": ".py",
   "mimetype": "text/x-python",
   "name": "python",
   "nbconvert_exporter": "python",
   "pygments_lexer": "ipython3",
   "version": "3.11.3"
  },
  "orig_nbformat": 4
 },
 "nbformat": 4,
 "nbformat_minor": 2
}
